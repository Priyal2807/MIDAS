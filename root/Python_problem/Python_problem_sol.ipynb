{
 "cells": [
  {
   "cell_type": "markdown",
   "metadata": {},
   "source": [
    "Importing the necessary files for using the twitter API"
   ]
  },
  {
   "cell_type": "code",
   "execution_count": 1,
   "metadata": {},
   "outputs": [],
   "source": [
    "import tweepy\n",
    "from tweepy import OAuthHandler\n",
    "from tweepy import API"
   ]
  },
  {
   "cell_type": "markdown",
   "metadata": {},
   "source": [
    "Importing json for being able to analyse the tweets after being dumped in a json file"
   ]
  },
  {
   "cell_type": "code",
   "execution_count": 2,
   "metadata": {},
   "outputs": [],
   "source": [
    "import json"
   ]
  },
  {
   "cell_type": "markdown",
   "metadata": {},
   "source": [
    "Creating variables for authentication and connecting to the twitter api"
   ]
  },
  {
   "cell_type": "code",
   "execution_count": 3,
   "metadata": {},
   "outputs": [],
   "source": [
    "acc_token = \"\"\n",
    "acc_token_sec = \"\"\n",
    "cons_key = \"\"\n",
    "cons_key_sec = \"\"\n",
    "\n",
    "auth = OAuthHandler(cons_key, cons_key_sec)\n",
    "auth.set_access_token(acc_token, acc_token_sec)\n",
    "\n",
    "api = API(auth)"
   ]
  },
  {
   "cell_type": "markdown",
   "metadata": {},
   "source": [
    "user_timeline() is a method that allows to access the tweets from a specific user's timeline, count is the number of tweets requested"
   ]
  },
  {
   "cell_type": "code",
   "execution_count": 4,
   "metadata": {},
   "outputs": [],
   "source": [
    "val = api.user_timeline(screen_name = 'midasIIITD', count = 100, include_rts = True)"
   ]
  },
  {
   "cell_type": "markdown",
   "metadata": {},
   "source": [
    "Here, for every tweet(variable created) in 'val' we are saving the contents to a json file named myFile.json which can then be parsed"
   ]
  },
  {
   "cell_type": "code",
   "execution_count": 5,
   "metadata": {},
   "outputs": [],
   "source": [
    "for tweet in val:                           \n",
    "    with open('myFile.json', 'w', encoding='utf8') as file:\n",
    "        json.dump(tweet._json, file) "
   ]
  },
  {
   "cell_type": "markdown",
   "metadata": {},
   "source": [
    "myFile is then loaded into data where the key and the value item pair are then used to extract the necessary details"
   ]
  },
  {
   "cell_type": "code",
   "execution_count": 6,
   "metadata": {},
   "outputs": [],
   "source": [
    "f = open('myFile.json')\n",
    "data = json.load(f)\n",
    "f.close()"
   ]
  },
  {
   "cell_type": "code",
   "execution_count": 7,
   "metadata": {},
   "outputs": [
    {
     "name": "stdout",
     "output_type": "stream",
     "text": [
      "Key:created_at\n",
      "Value:Sun Feb 17 06:39:30 +0000 2019\n",
      "Key:text\n",
      "Value:Submissions are invited for a special issue of Cognitive Computation (Impact Factor: 3.479) on Affect Recognition i… https://t.co/LkQb24vcGU\n",
      "Key:retweet_count\n",
      "Value:1\n",
      "Key:favorite_count\n",
      "Value:1\n"
     ]
    }
   ],
   "source": [
    "for (k, v) in data.items():\n",
    "    if k==\"created_at\" or k==\"favorite_count\" or k == \"retweet_count\" or k == \"text\":\n",
    "        print(\"Key:\" + k)\n",
    "        print(\"Value:\" + str(v))\n"
   ]
  },
  {
   "cell_type": "code",
   "execution_count": null,
   "metadata": {},
   "outputs": [],
   "source": []
  }
 ],
 "metadata": {
  "kernelspec": {
   "display_name": "Python 3",
   "language": "python",
   "name": "python3"
  },
  "language_info": {
   "codemirror_mode": {
    "name": "ipython",
    "version": 3
   },
   "file_extension": ".py",
   "mimetype": "text/x-python",
   "name": "python",
   "nbconvert_exporter": "python",
   "pygments_lexer": "ipython3",
   "version": "3.6.4"
  }
 },
 "nbformat": 4,
 "nbformat_minor": 2
}
